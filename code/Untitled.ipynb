{
 "cells": [
  {
   "cell_type": "code",
   "execution_count": 1,
   "id": "22e69df4-9dc0-43f7-84e9-8b296520a7c9",
   "metadata": {},
   "outputs": [],
   "source": [
    "import ants"
   ]
  },
  {
   "cell_type": "code",
   "execution_count": 2,
   "id": "054cbb7a-2062-4891-a6c9-c9d905bd2491",
   "metadata": {},
   "outputs": [],
   "source": [
    "import numpy as np"
   ]
  },
  {
   "cell_type": "code",
   "execution_count": 3,
   "id": "8e00d371-75e0-491d-9edf-4f01a09986bd",
   "metadata": {},
   "outputs": [],
   "source": [
    "import matplotlib.pyplot as plt"
   ]
  },
  {
   "cell_type": "code",
   "execution_count": 4,
   "id": "3f297ac3-3a12-4d54-8626-46f94f504129",
   "metadata": {},
   "outputs": [],
   "source": [
    "im = ants.image_read('../intermediateFiles/paxLabelsAlignedToOsparc.nii.gz') # OSPARC atlas with paxinos-watson labels, created by writeRegionsPW.py"
   ]
  },
  {
   "cell_type": "code",
   "execution_count": 5,
   "id": "3a9aeb4d-aa49-4175-ae47-c984f036eb86",
   "metadata": {},
   "outputs": [],
   "source": [
    "newvalscopy = im.numpy()"
   ]
  },
  {
   "cell_type": "code",
   "execution_count": 6,
   "id": "382b3c28-2145-4501-914b-87e3ed93e5dc",
   "metadata": {},
   "outputs": [],
   "source": [
    "sscx = np.array([721,722,723,724,725,726,727,728,730,731])"
   ]
  },
  {
   "cell_type": "code",
   "execution_count": null,
   "id": "593e6862-4439-49ce-b7bd-89f77c90c9a0",
   "metadata": {},
   "outputs": [],
   "source": [
    "idx = np.where(np.isin(newvalscopy,sscx))"
   ]
  },
  {
   "cell_type": "code",
   "execution_count": null,
   "id": "fab70841-f02a-4f6c-89a2-9332ae1305ab",
   "metadata": {},
   "outputs": [],
   "source": [
    "plt.figure()\n",
    "plt.hist(idx[0])"
   ]
  },
  {
   "cell_type": "code",
   "execution_count": null,
   "id": "35bc74a6-2fe5-4b15-8e17-8b77daa3507c",
   "metadata": {},
   "outputs": [],
   "source": []
  }
 ],
 "metadata": {
  "kernelspec": {
   "display_name": "Python 3 (ipykernel)",
   "language": "python",
   "name": "python3"
  },
  "language_info": {
   "codemirror_mode": {
    "name": "ipython",
    "version": 3
   },
   "file_extension": ".py",
   "mimetype": "text/x-python",
   "name": "python",
   "nbconvert_exporter": "python",
   "pygments_lexer": "ipython3",
   "version": "3.11.6"
  }
 },
 "nbformat": 4,
 "nbformat_minor": 5
}
